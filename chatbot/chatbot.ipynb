{
 "cells": [
  {
   "cell_type": "code",
   "execution_count": 1,
   "id": "29153f20-8bba-4ef9-a960-bfa654140747",
   "metadata": {},
   "outputs": [
    {
     "name": "stdout",
     "output_type": "stream",
     "text": [
      "Python version\n",
      "3.11.5 (main, Aug 24 2023, 15:09:45) [Clang 14.0.3 (clang-1403.0.22.14.1)]\n",
      "Version info.\n",
      "sys.version_info(major=3, minor=11, micro=5, releaselevel='final', serial=0)\n"
     ]
    }
   ],
   "source": [
    "import sys\n",
    "\n",
    "print(\"Python version\")\n",
    "print(sys.version)\n",
    "print(\"Version info.\")\n",
    "print(sys.version_info)"
   ]
  },
  {
   "cell_type": "code",
   "execution_count": 2,
   "id": "acd5a156-010e-4139-ad9d-74310805cd0b",
   "metadata": {},
   "outputs": [
    {
     "name": "stdout",
     "output_type": "stream",
     "text": [
      "1.28.57\n"
     ]
    }
   ],
   "source": [
    "import boto3\n",
    "\n",
    "print(boto3.__version__)"
   ]
  },
  {
   "cell_type": "code",
   "execution_count": null,
   "id": "3534f3d6-39ad-4ac6-b516-bc6de6a4eea8",
   "metadata": {},
   "outputs": [],
   "source": [
    "dev = boto3.session.Session(profile_name=\"your-profile-here\")\n",
    "dev.available_profiles"
   ]
  },
  {
   "cell_type": "code",
   "execution_count": 4,
   "id": "80931e65-f438-4f7e-a20b-8bf2191bdf31",
   "metadata": {},
   "outputs": [],
   "source": [
    "bedrock = dev.client(\n",
    "    service_name=\"bedrock\",\n",
    "    region_name=\"us-east-1\",\n",
    "    endpoint_url=\"https://bedrock.us-east-1.amazonaws.com\",\n",
    ")"
   ]
  },
  {
   "cell_type": "code",
   "execution_count": 5,
   "id": "aec3bcd8-4d2e-4338-bb07-0bc7cfabcca7",
   "metadata": {},
   "outputs": [],
   "source": [
    "json = bedrock.list_foundation_models()[\"modelSummaries\"]"
   ]
  },
  {
   "cell_type": "code",
   "execution_count": 6,
   "id": "90cd1e3a-9bb4-4e3f-b026-0310e7d12215",
   "metadata": {},
   "outputs": [
    {
     "data": {
      "text/html": [
       "<div><style>\n",
       ".dataframe > thead > tr > th,\n",
       ".dataframe > tbody > tr > td {\n",
       "  text-align: right;\n",
       "  white-space: pre-wrap;\n",
       "}\n",
       "</style>\n",
       "<small>shape: (5, 9)</small><table border=\"1\" class=\"dataframe\"><thead><tr><th>customizationsSupported</th><th>inferenceTypesSupported</th><th>inputModalities</th><th>modelArn</th><th>modelId</th><th>modelName</th><th>outputModalities</th><th>providerName</th><th>responseStreamingSupported</th></tr><tr><td>list[str]</td><td>list[str]</td><td>list[str]</td><td>str</td><td>str</td><td>str</td><td>list[str]</td><td>str</td><td>bool</td></tr></thead><tbody><tr><td>[&quot;FINE_TUNING&quot;]</td><td>[&quot;ON_DEMAND&quot;]</td><td>[&quot;TEXT&quot;]</td><td>&quot;arn:aws:bedroc…</td><td>&quot;amazon.titan-t…</td><td>&quot;Titan Text Lar…</td><td>[&quot;TEXT&quot;]</td><td>&quot;Amazon&quot;</td><td>true</td></tr><tr><td>[]</td><td>[&quot;ON_DEMAND&quot;]</td><td>[&quot;TEXT&quot;]</td><td>&quot;arn:aws:bedroc…</td><td>&quot;amazon.titan-e…</td><td>&quot;Titan Text Emb…</td><td>[&quot;EMBEDDING&quot;]</td><td>&quot;Amazon&quot;</td><td>null</td></tr><tr><td>[]</td><td>[&quot;ON_DEMAND&quot;]</td><td>[&quot;TEXT&quot;]</td><td>&quot;arn:aws:bedroc…</td><td>&quot;amazon.titan-e…</td><td>&quot;Titan Text Emb…</td><td>[&quot;EMBEDDING&quot;]</td><td>&quot;Amazon&quot;</td><td>null</td></tr><tr><td>[]</td><td>[&quot;ON_DEMAND&quot;]</td><td>[&quot;TEXT&quot;]</td><td>&quot;arn:aws:bedroc…</td><td>&quot;amazon.titan-t…</td><td>&quot;Titan Text G1 …</td><td>[&quot;TEXT&quot;]</td><td>&quot;Amazon&quot;</td><td>true</td></tr><tr><td>[]</td><td>[&quot;ON_DEMAND&quot;]</td><td>[&quot;TEXT&quot;]</td><td>&quot;arn:aws:bedroc…</td><td>&quot;amazon.titan-e…</td><td>&quot;Titan Embeddin…</td><td>[&quot;EMBEDDING&quot;]</td><td>&quot;Amazon&quot;</td><td>true</td></tr></tbody></table></div>"
      ],
      "text/plain": [
       "shape: (5, 9)\n",
       "┌───────────┬───────────┬───────────┬───────────┬───┬───────────┬───────────┬───────────┬──────────┐\n",
       "│ customiza ┆ inference ┆ inputModa ┆ modelArn  ┆ … ┆ modelName ┆ outputMod ┆ providerN ┆ response │\n",
       "│ tionsSupp ┆ TypesSupp ┆ lities    ┆ ---       ┆   ┆ ---       ┆ alities   ┆ ame       ┆ Streamin │\n",
       "│ orted     ┆ orted     ┆ ---       ┆ str       ┆   ┆ str       ┆ ---       ┆ ---       ┆ gSupport │\n",
       "│ ---       ┆ ---       ┆ list[str] ┆           ┆   ┆           ┆ list[str] ┆ str       ┆ ed       │\n",
       "│ list[str] ┆ list[str] ┆           ┆           ┆   ┆           ┆           ┆           ┆ ---      │\n",
       "│           ┆           ┆           ┆           ┆   ┆           ┆           ┆           ┆ bool     │\n",
       "╞═══════════╪═══════════╪═══════════╪═══════════╪═══╪═══════════╪═══════════╪═══════════╪══════════╡\n",
       "│ [\"FINE_TU ┆ [\"ON_DEMA ┆ [\"TEXT\"]  ┆ arn:aws:b ┆ … ┆ Titan     ┆ [\"TEXT\"]  ┆ Amazon    ┆ true     │\n",
       "│ NING\"]    ┆ ND\"]      ┆           ┆ edrock:us ┆   ┆ Text      ┆           ┆           ┆          │\n",
       "│           ┆           ┆           ┆ -east-1:: ┆   ┆ Large     ┆           ┆           ┆          │\n",
       "│           ┆           ┆           ┆ found…    ┆   ┆           ┆           ┆           ┆          │\n",
       "│ []        ┆ [\"ON_DEMA ┆ [\"TEXT\"]  ┆ arn:aws:b ┆ … ┆ Titan     ┆ [\"EMBEDDI ┆ Amazon    ┆ null     │\n",
       "│           ┆ ND\"]      ┆           ┆ edrock:us ┆   ┆ Text Embe ┆ NG\"]      ┆           ┆          │\n",
       "│           ┆           ┆           ┆ -east-1:: ┆   ┆ ddings    ┆           ┆           ┆          │\n",
       "│           ┆           ┆           ┆ found…    ┆   ┆           ┆           ┆           ┆          │\n",
       "│ []        ┆ [\"ON_DEMA ┆ [\"TEXT\"]  ┆ arn:aws:b ┆ … ┆ Titan     ┆ [\"EMBEDDI ┆ Amazon    ┆ null     │\n",
       "│           ┆ ND\"]      ┆           ┆ edrock:us ┆   ┆ Text Embe ┆ NG\"]      ┆           ┆          │\n",
       "│           ┆           ┆           ┆ -east-1:: ┆   ┆ ddings v2 ┆           ┆           ┆          │\n",
       "│           ┆           ┆           ┆ found…    ┆   ┆           ┆           ┆           ┆          │\n",
       "│ []        ┆ [\"ON_DEMA ┆ [\"TEXT\"]  ┆ arn:aws:b ┆ … ┆ Titan     ┆ [\"TEXT\"]  ┆ Amazon    ┆ true     │\n",
       "│           ┆ ND\"]      ┆           ┆ edrock:us ┆   ┆ Text G1 - ┆           ┆           ┆          │\n",
       "│           ┆           ┆           ┆ -east-1:: ┆   ┆ Express   ┆           ┆           ┆          │\n",
       "│           ┆           ┆           ┆ found…    ┆   ┆           ┆           ┆           ┆          │\n",
       "│ []        ┆ [\"ON_DEMA ┆ [\"TEXT\"]  ┆ arn:aws:b ┆ … ┆ Titan Emb ┆ [\"EMBEDDI ┆ Amazon    ┆ true     │\n",
       "│           ┆ ND\"]      ┆           ┆ edrock:us ┆   ┆ eddings   ┆ NG\"]      ┆           ┆          │\n",
       "│           ┆           ┆           ┆ -east-1:: ┆   ┆ G1 - Text ┆           ┆           ┆          │\n",
       "│           ┆           ┆           ┆ found…    ┆   ┆           ┆           ┆           ┆          │\n",
       "└───────────┴───────────┴───────────┴───────────┴───┴───────────┴───────────┴───────────┴──────────┘"
      ]
     },
     "execution_count": 6,
     "metadata": {},
     "output_type": "execute_result"
    }
   ],
   "source": [
    "import polars as pl\n",
    "\n",
    "pl.DataFrame(json).head()"
   ]
  },
  {
   "cell_type": "code",
   "execution_count": 7,
   "id": "8918c496-e648-4f37-b23b-4e73c2cd8908",
   "metadata": {},
   "outputs": [],
   "source": [
    "bedrock_runtime = dev.client(\n",
    "    service_name=\"bedrock-runtime\",\n",
    "    region_name=\"us-east-1\",\n",
    "    endpoint_url=\"https://bedrock-runtime.us-east-1.amazonaws.com\",\n",
    ")"
   ]
  },
  {
   "cell_type": "code",
   "execution_count": 8,
   "id": "c5b8c3ce-2676-425e-95e4-73d3f26414a5",
   "metadata": {},
   "outputs": [
    {
     "data": {
      "text/plain": [
       "ServiceModel(bedrock-runtime)"
      ]
     },
     "execution_count": 8,
     "metadata": {},
     "output_type": "execute_result"
    }
   ],
   "source": [
    "bedrock_runtime.meta.service_model"
   ]
  },
  {
   "cell_type": "code",
   "execution_count": 18,
   "id": "a80cf261-605f-4032-84f2-8c17ffd73d44",
   "metadata": {},
   "outputs": [],
   "source": [
    "import json\n",
    "\n",
    "model_id = \"anthropic.claude-v2\"\n",
    "content_type = \"application/json\"\n",
    "accept = \"*/*\"\n",
    "body = {\n",
    "    \"prompt\": \"Human:Who was the 40th president of the united states?\\nAssistant:\",\n",
    "    \"temperature\": 0.5,\n",
    "    \"top_p\": 1,\n",
    "    \"top_k\": 250,\n",
    "    \"max_tokens_to_sample\": 42,\n",
    "    \"stop_sequences\": [],\n",
    "}\n",
    "\n",
    "resp = bedrock_runtime.invoke_model(\n",
    "    modelId=model_id,\n",
    "    contentType=content_type,\n",
    "    accept=accept,\n",
    "    body=json.dumps(body).encode(\"utf-8\"),\n",
    ")"
   ]
  },
  {
   "cell_type": "code",
   "execution_count": 19,
   "id": "32ae7458-0d30-4d92-b770-63ab893b0205",
   "metadata": {},
   "outputs": [
    {
     "data": {
      "text/plain": [
       "' Ronald Reagan was the 40th president of the United States. He served from 1981 to 1989.'"
      ]
     },
     "execution_count": 19,
     "metadata": {},
     "output_type": "execute_result"
    }
   ],
   "source": [
    "json.loads(resp.get(\"body\").read())[\"completion\"]"
   ]
  },
  {
   "cell_type": "code",
   "execution_count": 11,
   "id": "49e94afd-de2a-43b8-b700-274de8164b38",
   "metadata": {},
   "outputs": [],
   "source": [
    "body = json.dumps(\n",
    "    {\n",
    "        \"prompt\": \"\\n\\nHuman:explain black holes to 8th graders\\n\\nAssistant:\",\n",
    "        \"max_tokens_to_sample\": 300,\n",
    "        \"temperature\": 0.1,\n",
    "        \"top_p\": 0.9,\n",
    "    }\n",
    ")\n",
    "\n",
    "modelId = \"anthropic.claude-v2\"\n",
    "accept = \"application/json\"\n",
    "contentType = \"application/json\"\n",
    "\n",
    "resp = bedrock_runtime.invoke_model(\n",
    "    body=body, modelId=modelId, accept=accept, contentType=contentType\n",
    ")"
   ]
  },
  {
   "cell_type": "code",
   "execution_count": 12,
   "id": "8d23227b-64d9-4eb3-ae42-e0f4c5110182",
   "metadata": {},
   "outputs": [],
   "source": [
    "completion = json.loads(resp.get(\"body\").read())[\"completion\"]"
   ]
  },
  {
   "cell_type": "code",
   "execution_count": 14,
   "id": "db060b93-209e-4cf8-bbb9-f10ef082f491",
   "metadata": {},
   "outputs": [
    {
     "name": "stdout",
     "output_type": "stream",
     "text": [
      " Here is a simple explanation of black holes for 8th graders:\n",
      "\n",
      "- A black hole is a region in space where gravity is so strong that nothing can escape from it, even light. This region is called the event horizon.\n",
      "\n",
      "- Black holes form when very massive stars collapse. When the star runs out of nuclear fuel, gravity makes it collapse on itself. The matter gets compressed into a very small space, creating a black hole. \n",
      "\n",
      "- Black holes are called \"black\" because they absorb all the light that hits them. They don't reflect or emit any light that we can detect. So they appear completely black.\n",
      "\n",
      "- The gravitational pull of black holes is so strong because matter has been compressed into a tiny space. All of that mass gets concentrated into a single point called the singularity. \n",
      "\n",
      "- Not even light can escape from a black hole once it crosses the event horizon. The gravity is so intense that the escape velocity is faster than the speed of light!\n",
      "\n",
      "- Black holes warp space and time around them. They bend light and time due to their strong gravity. Anything that gets too close will get stretched and spaghettified by the intense gravitational forces.\n",
      "\n",
      "- We can detect black holes when they suck in and heat up nearby gas and dust. This material swirls around the black hole, creating a disk that emits X-rays that we can observe with telescopes.\n",
      "\n",
      "- Supermassive black holes\n"
     ]
    }
   ],
   "source": [
    "print(completion)"
   ]
  }
 ],
 "metadata": {
  "kernelspec": {
   "display_name": "Python 3 (ipykernel)",
   "language": "python",
   "name": "python3"
  },
  "language_info": {
   "codemirror_mode": {
    "name": "ipython",
    "version": 3
   },
   "file_extension": ".py",
   "mimetype": "text/x-python",
   "name": "python",
   "nbconvert_exporter": "python",
   "pygments_lexer": "ipython3",
   "version": "3.11.5"
  }
 },
 "nbformat": 4,
 "nbformat_minor": 5
}
