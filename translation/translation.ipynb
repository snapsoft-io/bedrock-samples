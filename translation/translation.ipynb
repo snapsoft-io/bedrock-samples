{
 "cells": [
  {
   "cell_type": "code",
   "execution_count": 1,
   "id": "29153f20-8bba-4ef9-a960-bfa654140747",
   "metadata": {},
   "outputs": [
    {
     "name": "stdout",
     "output_type": "stream",
     "text": [
      "Python version\n",
      "3.11.5 (main, Aug 24 2023, 15:09:45) [Clang 14.0.3 (clang-1403.0.22.14.1)]\n",
      "Version info.\n",
      "sys.version_info(major=3, minor=11, micro=5, releaselevel='final', serial=0)\n"
     ]
    }
   ],
   "source": [
    "import sys\n",
    "\n",
    "print(\"Python version\")\n",
    "print(sys.version)\n",
    "print(\"Version info.\")\n",
    "print(sys.version_info)"
   ]
  },
  {
   "cell_type": "code",
   "execution_count": 2,
   "id": "acd5a156-010e-4139-ad9d-74310805cd0b",
   "metadata": {},
   "outputs": [
    {
     "name": "stdout",
     "output_type": "stream",
     "text": [
      "1.28.57\n"
     ]
    }
   ],
   "source": [
    "import boto3\n",
    "\n",
    "print(boto3.__version__)"
   ]
  },
  {
   "cell_type": "code",
   "execution_count": null,
   "id": "3534f3d6-39ad-4ac6-b516-bc6de6a4eea8",
   "metadata": {},
   "outputs": [],
   "source": [
    "dev = boto3.session.Session(profile_name=\"your-profile-here\")\n",
    "dev.available_profiles"
   ]
  },
  {
   "cell_type": "code",
   "execution_count": 4,
   "id": "8918c496-e648-4f37-b23b-4e73c2cd8908",
   "metadata": {},
   "outputs": [],
   "source": [
    "bedrock_runtime = dev.client(\n",
    "    service_name=\"bedrock-runtime\",\n",
    "    region_name=\"us-east-1\",\n",
    "    endpoint_url=\"https://bedrock-runtime.us-east-1.amazonaws.com\",\n",
    ")"
   ]
  },
  {
   "cell_type": "code",
   "execution_count": 5,
   "id": "c5b8c3ce-2676-425e-95e4-73d3f26414a5",
   "metadata": {},
   "outputs": [
    {
     "data": {
      "text/plain": [
       "'us-east-1'"
      ]
     },
     "execution_count": 5,
     "metadata": {},
     "output_type": "execute_result"
    }
   ],
   "source": [
    "bedrock_runtime.meta.region_name"
   ]
  },
  {
   "cell_type": "code",
   "execution_count": 6,
   "id": "2044d39f-543e-489a-998e-1900e878d3ab",
   "metadata": {},
   "outputs": [
    {
     "data": {
      "text/plain": [
       "'Hola. Me llamo Keanu Reeves. ¡Mi nombre no puede ser tan difícil de pronunciar!'"
      ]
     },
     "execution_count": 6,
     "metadata": {},
     "output_type": "execute_result"
    }
   ],
   "source": [
    "import json\n",
    "\n",
    "input_text = \"Hello. My name is Keanu Reeves. My name can't be that tough to pronounce!\"\n",
    "target_language = \"Spanish\"\n",
    "resp = bedrock_runtime.invoke_model(\n",
    "    modelId=\"anthropic.claude-v2\",\n",
    "    body=json.dumps(\n",
    "        {\n",
    "            \"prompt\": f\"Human: Please translate the text below to {target_language}. Respond only with the translated text.{input_text}Assistant:\",\n",
    "            \"max_tokens_to_sample\": 300,\n",
    "            \"temperature\": 0.9,\n",
    "        }\n",
    "    ),\n",
    ")[\"body\"].read()\n",
    "json.loads(resp)[\"completion\"].strip()"
   ]
  }
 ],
 "metadata": {
  "kernelspec": {
   "display_name": "Python 3 (ipykernel)",
   "language": "python",
   "name": "python3"
  },
  "language_info": {
   "codemirror_mode": {
    "name": "ipython",
    "version": 3
   },
   "file_extension": ".py",
   "mimetype": "text/x-python",
   "name": "python",
   "nbconvert_exporter": "python",
   "pygments_lexer": "ipython3",
   "version": "3.11.5"
  }
 },
 "nbformat": 4,
 "nbformat_minor": 5
}
